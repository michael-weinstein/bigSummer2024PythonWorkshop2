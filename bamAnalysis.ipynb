{
 "cells": [
  {
   "cell_type": "code",
   "id": "initial_id",
   "metadata": {
    "collapsed": true,
    "ExecuteTime": {
     "end_time": "2024-06-27T21:45:21.024411Z",
     "start_time": "2024-06-27T21:45:20.589699Z"
    }
   },
   "source": [
    "import samReader\n",
    "import numpy\n",
    "import matplotlib.pyplot as plt"
   ],
   "outputs": [],
   "execution_count": 1
  },
  {
   "metadata": {
    "ExecuteTime": {
     "end_time": "2024-06-27T21:45:23.300979Z",
     "start_time": "2024-06-27T21:45:21.025427Z"
    }
   },
   "cell_type": "code",
   "source": "samData = samReader.readSamFile(\"sampleData.sam\")",
   "id": "3f53856aac96b0e9",
   "outputs": [],
   "execution_count": 2
  },
  {
   "metadata": {
    "ExecuteTime": {
     "end_time": "2024-06-27T21:45:23.305485Z",
     "start_time": "2024-06-27T21:45:23.301995Z"
    }
   },
   "cell_type": "code",
   "source": "firstLine = samData[0]",
   "id": "42ced584f64b4583",
   "outputs": [],
   "execution_count": 3
  },
  {
   "metadata": {
    "ExecuteTime": {
     "end_time": "2024-06-27T21:45:23.313920Z",
     "start_time": "2024-06-27T21:45:23.306496Z"
    }
   },
   "cell_type": "code",
   "source": "firstLine.seq.baseCounts",
   "id": "225585aacc8ada4c",
   "outputs": [
    {
     "data": {
      "text/plain": [
       "defaultdict(<function samReader.returnZero() -> int>,\n",
       "            {'G': 18, 'C': 28, 'T': 31, 'A': 24})"
      ]
     },
     "execution_count": 4,
     "metadata": {},
     "output_type": "execute_result"
    }
   ],
   "execution_count": 4
  },
  {
   "metadata": {
    "ExecuteTime": {
     "end_time": "2024-06-27T21:45:23.318793Z",
     "start_time": "2024-06-27T21:45:23.314978Z"
    }
   },
   "cell_type": "code",
   "source": "firstLine.seq.baseCounts[\"G\"]",
   "id": "d11aa6d23e15d692",
   "outputs": [
    {
     "data": {
      "text/plain": [
       "18"
      ]
     },
     "execution_count": 5,
     "metadata": {},
     "output_type": "execute_result"
    }
   ],
   "execution_count": 5
  },
  {
   "metadata": {
    "ExecuteTime": {
     "end_time": "2024-06-27T21:45:23.323429Z",
     "start_time": "2024-06-27T21:45:23.318793Z"
    }
   },
   "cell_type": "code",
   "source": "firstLine.seq.baseCounts[(\"U\")]",
   "id": "593b5925949fb1e9",
   "outputs": [
    {
     "data": {
      "text/plain": [
       "0"
      ]
     },
     "execution_count": 6,
     "metadata": {},
     "output_type": "execute_result"
    }
   ],
   "execution_count": 6
  },
  {
   "metadata": {
    "ExecuteTime": {
     "end_time": "2024-06-27T21:45:23.328897Z",
     "start_time": "2024-06-27T21:45:23.323429Z"
    }
   },
   "cell_type": "code",
   "source": "firstLine.seq.baseCounts",
   "id": "5e8b0c90007281d9",
   "outputs": [
    {
     "data": {
      "text/plain": [
       "defaultdict(<function samReader.returnZero() -> int>,\n",
       "            {'G': 18, 'C': 28, 'T': 31, 'A': 24, 'U': 0})"
      ]
     },
     "execution_count": 7,
     "metadata": {},
     "output_type": "execute_result"
    }
   ],
   "execution_count": 7
  },
  {
   "metadata": {
    "ExecuteTime": {
     "end_time": "2024-06-27T21:45:23.333417Z",
     "start_time": "2024-06-27T21:45:23.328897Z"
    }
   },
   "cell_type": "code",
   "source": "firstLine.seq.gcContent",
   "id": "ef38d21cd3cde7b6",
   "outputs": [
    {
     "data": {
      "text/plain": [
       "0.45544554455445546"
      ]
     },
     "execution_count": 8,
     "metadata": {},
     "output_type": "execute_result"
    }
   ],
   "execution_count": 8
  },
  {
   "metadata": {
    "ExecuteTime": {
     "end_time": "2024-06-27T21:45:23.339323Z",
     "start_time": "2024-06-27T21:45:23.334802Z"
    }
   },
   "cell_type": "code",
   "source": "len(samData)",
   "id": "3939e739216f1843",
   "outputs": [
    {
     "data": {
      "text/plain": [
       "500172"
      ]
     },
     "execution_count": 9,
     "metadata": {},
     "output_type": "execute_result"
    }
   ],
   "execution_count": 9
  },
  {
   "metadata": {
    "ExecuteTime": {
     "end_time": "2024-06-27T21:45:26.466686Z",
     "start_time": "2024-06-27T21:45:23.340336Z"
    }
   },
   "cell_type": "code",
   "source": [
    "qualityScores = []\n",
    "for samLine in samData:\n",
    "    phreds = samLine.qual.phredValues\n",
    "    for i in range (0, 101 - len(phreds)):\n",
    "        phreds.append(numpy.nan)\n",
    "    qualityScores.append(phreds)"
   ],
   "id": "7cc9712df5109b52",
   "outputs": [],
   "execution_count": 10
  },
  {
   "metadata": {
    "ExecuteTime": {
     "end_time": "2024-06-27T21:45:28.503846Z",
     "start_time": "2024-06-27T21:45:26.467692Z"
    }
   },
   "cell_type": "code",
   "source": "qualityMatrix = numpy.array(qualityScores)",
   "id": "dbdf406cb18b8090",
   "outputs": [],
   "execution_count": 11
  },
  {
   "metadata": {
    "ExecuteTime": {
     "end_time": "2024-06-27T21:49:33.848505Z",
     "start_time": "2024-06-27T21:49:33.618884Z"
    }
   },
   "cell_type": "code",
   "source": [
    "qualityAverages = numpy.nanmean(qualityMatrix, axis = 0)\n",
    "qualityAverages.shape"
   ],
   "id": "9f44f8dd694f3d1e",
   "outputs": [
    {
     "data": {
      "text/plain": [
       "(101,)"
      ]
     },
     "execution_count": 18,
     "metadata": {},
     "output_type": "execute_result"
    }
   ],
   "execution_count": 18
  },
  {
   "metadata": {
    "ExecuteTime": {
     "end_time": "2024-06-27T21:49:40.340430Z",
     "start_time": "2024-06-27T21:49:40.274363Z"
    }
   },
   "cell_type": "code",
   "source": "plt.scatter(range(0, 101), qualityAverages)",
   "id": "a9d1d0d0af0827ae",
   "outputs": [
    {
     "data": {
      "text/plain": [
       "<matplotlib.collections.PathCollection at 0x20fa4f81af0>"
      ]
     },
     "execution_count": 20,
     "metadata": {},
     "output_type": "execute_result"
    },
    {
     "data": {
      "text/plain": [
       "<Figure size 640x480 with 1 Axes>"
      ],
      "image/png": "[encoded data removed]"
     },
     "metadata": {},
     "output_type": "display_data"
    }
   ],
   "execution_count": 20
  },
  {
   "metadata": {},
   "cell_type": "code",
   "outputs": [],
   "execution_count": null,
   "source": "",
   "id": "958ccbebfc31a3c0"
  }
 ],
 "metadata": {
  "kernelspec": {
   "display_name": "Python 3",
   "language": "python",
   "name": "python3"
  },
  "language_info": {
   "codemirror_mode": {
    "name": "ipython",
    "version": 2
   },
   "file_extension": ".py",
   "mimetype": "text/x-python",
   "name": "python",
   "nbconvert_exporter": "python",
   "pygments_lexer": "ipython2",
   "version": "2.7.6"
  }
 },
 "nbformat": 4,
 "nbformat_minor": 5
}
