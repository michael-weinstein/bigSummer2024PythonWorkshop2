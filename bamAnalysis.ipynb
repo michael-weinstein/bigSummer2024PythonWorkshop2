{
 "cells": [
  {
   "cell_type": "code",
   "id": "initial_id",
   "metadata": {
    "collapsed": true,
    "ExecuteTime": {
     "end_time": "2024-06-27T20:57:10.023611Z",
     "start_time": "2024-06-27T20:57:08.684279Z"
    }
   },
   "source": [
    "import samReader\n",
    "import numpy\n",
    "import matplotlib.pyplot as plt"
   ],
   "outputs": [],
   "execution_count": 11
  },
  {
   "metadata": {
    "ExecuteTime": {
     "end_time": "2024-06-27T20:52:39.452444Z",
     "start_time": "2024-06-27T20:52:36.620511Z"
    }
   },
   "cell_type": "code",
   "source": "samData = samReader.readSamFile(\"sampleData.sam\")",
   "id": "3f53856aac96b0e9",
   "outputs": [],
   "execution_count": 2
  },
  {
   "metadata": {
    "ExecuteTime": {
     "end_time": "2024-06-27T20:52:39.455718Z",
     "start_time": "2024-06-27T20:52:39.453460Z"
    }
   },
   "cell_type": "code",
   "source": "firstLine = samData[0]",
   "id": "42ced584f64b4583",
   "outputs": [],
   "execution_count": 3
  },
  {
   "metadata": {
    "ExecuteTime": {
     "end_time": "2024-06-27T20:52:39.462376Z",
     "start_time": "2024-06-27T20:52:39.456734Z"
    }
   },
   "cell_type": "code",
   "source": "firstLine.seq.baseCounts",
   "id": "225585aacc8ada4c",
   "outputs": [
    {
     "data": {
      "text/plain": [
       "defaultdict(<function samReader.returnZero() -> int>,\n",
       "            {'G': 18, 'C': 28, 'T': 31, 'A': 24})"
      ]
     },
     "execution_count": 4,
     "metadata": {},
     "output_type": "execute_result"
    }
   ],
   "execution_count": 4
  },
  {
   "metadata": {
    "ExecuteTime": {
     "end_time": "2024-06-27T20:52:39.467376Z",
     "start_time": "2024-06-27T20:52:39.463387Z"
    }
   },
   "cell_type": "code",
   "source": "firstLine.seq.baseCounts[\"G\"]",
   "id": "d11aa6d23e15d692",
   "outputs": [
    {
     "data": {
      "text/plain": [
       "18"
      ]
     },
     "execution_count": 5,
     "metadata": {},
     "output_type": "execute_result"
    }
   ],
   "execution_count": 5
  },
  {
   "metadata": {
    "ExecuteTime": {
     "end_time": "2024-06-27T20:52:39.471760Z",
     "start_time": "2024-06-27T20:52:39.468392Z"
    }
   },
   "cell_type": "code",
   "source": "firstLine.seq.baseCounts[(\"U\")]",
   "id": "593b5925949fb1e9",
   "outputs": [
    {
     "data": {
      "text/plain": [
       "0"
      ]
     },
     "execution_count": 6,
     "metadata": {},
     "output_type": "execute_result"
    }
   ],
   "execution_count": 6
  },
  {
   "metadata": {
    "ExecuteTime": {
     "end_time": "2024-06-27T20:52:39.476373Z",
     "start_time": "2024-06-27T20:52:39.472774Z"
    }
   },
   "cell_type": "code",
   "source": "firstLine.seq.baseCounts",
   "id": "5e8b0c90007281d9",
   "outputs": [
    {
     "data": {
      "text/plain": [
       "defaultdict(<function samReader.returnZero() -> int>,\n",
       "            {'G': 18, 'C': 28, 'T': 31, 'A': 24, 'U': 0})"
      ]
     },
     "execution_count": 7,
     "metadata": {},
     "output_type": "execute_result"
    }
   ],
   "execution_count": 7
  },
  {
   "metadata": {
    "ExecuteTime": {
     "end_time": "2024-06-27T20:52:39.481388Z",
     "start_time": "2024-06-27T20:52:39.477382Z"
    }
   },
   "cell_type": "code",
   "source": "firstLine.seq.gcContent",
   "id": "ef38d21cd3cde7b6",
   "outputs": [
    {
     "data": {
      "text/plain": [
       "0.45544554455445546"
      ]
     },
     "execution_count": 8,
     "metadata": {},
     "output_type": "execute_result"
    }
   ],
   "execution_count": 8
  },
  {
   "metadata": {
    "ExecuteTime": {
     "end_time": "2024-06-27T20:52:53.066697Z",
     "start_time": "2024-06-27T20:52:53.061936Z"
    }
   },
   "cell_type": "code",
   "source": "len(samData)",
   "id": "3939e739216f1843",
   "outputs": [
    {
     "data": {
      "text/plain": [
       "500172"
      ]
     },
     "execution_count": 9,
     "metadata": {},
     "output_type": "execute_result"
    }
   ],
   "execution_count": 9
  },
  {
   "metadata": {
    "ExecuteTime": {
     "end_time": "2024-06-27T21:01:55.580098Z",
     "start_time": "2024-06-27T21:01:55.485672Z"
    }
   },
   "cell_type": "code",
   "source": [
    "qualityScores = []\n",
    "for samLine in samData:\n",
    "    phreds = samLine.qual.phredValues\n",
    "    for i in range (0, 101 - len(phreds)):\n",
    "        phreds.append(None)\n",
    "    qualityScores.append(phreds)"
   ],
   "id": "7cc9712df5109b52",
   "outputs": [],
   "execution_count": 15
  },
  {
   "metadata": {
    "ExecuteTime": {
     "end_time": "2024-06-27T21:03:01.412061Z",
     "start_time": "2024-06-27T21:03:00.152389Z"
    }
   },
   "cell_type": "code",
   "source": "qualityMatrix = numpy.array(qualityScores)",
   "id": "dbdf406cb18b8090",
   "outputs": [],
   "execution_count": 16
  },
  {
   "metadata": {},
   "cell_type": "code",
   "outputs": [],
   "execution_count": null,
   "source": "",
   "id": "9f44f8dd694f3d1e"
  }
 ],
 "metadata": {
  "kernelspec": {
   "display_name": "Python 3",
   "language": "python",
   "name": "python3"
  },
  "language_info": {
   "codemirror_mode": {
    "name": "ipython",
    "version": 2
   },
   "file_extension": ".py",
   "mimetype": "text/x-python",
   "name": "python",
   "nbconvert_exporter": "python",
   "pygments_lexer": "ipython2",
   "version": "2.7.6"
  }
 },
 "nbformat": 4,
 "nbformat_minor": 5
}
